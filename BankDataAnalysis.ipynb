{
 "cells": [
  {
   "cell_type": "markdown",
   "metadata": {},
   "source": [
    "## Marketing Campaign for a Bank || Opening a Term Deposit"
   ]
  },
  {
   "cell_type": "markdown",
   "metadata": {},
   "source": [
    "### Introduction"
   ]
  },
  {
   "cell_type": "markdown",
   "metadata": {},
   "source": [
    "Realistically, every organization is trying to generate revenue and the way to drive that is by getting customers to the business. Hence why alot of companies pay the big bucks in order to create and maintain successful marketing and advertising campaigns. Data Science can help improve such campaigns targeting the right customers based on specific factors caotured within the company's data. This project is to predict the results of the marketing campaign and figure out customer segments which have more probability to purchase products and improve targeted marketing techniques. \n",
    "\n",
    "\n",
    "This dataset is from the **UCI Machine Learning Repository** which mimics real life projects I have worked on previously in Finance."
   ]
  },
  {
   "cell_type": "markdown",
   "metadata": {},
   "source": [
    "### Task Description\n",
    "\n",
    "**-** Perform high level and exploratory data analysis <br><br>\n",
    "**-** Data Cleaning, encoding and dealing with missing and incorrect values <br><br>\n",
    "**-** Utilize unsupervised learning techniques to explore customer segments and use classification techniques to predict the    marketing outcomes"
   ]
  },
  {
   "cell_type": "markdown",
   "metadata": {},
   "source": [
    "### Data Attributes\n",
    "\n",
    "**Input Variables**\n",
    "1. **age** - numerical <br>\n",
    "2. **job** - type of job (categorical)<br>\n",
    "3. **marital** - marital status<br>\n",
    "4. **education** - categorical <br>\n",
    "5. **default** - categorical<br>\n",
    "6. **housing** - categorical <br>\n",
    "7. **default** - categorical <br>\n",
    "8. **loan** - categorical <br>\n",
    "9. **contact** - contact information (categorical)<br>\n",
    "10. **day** - Last day of contact <br>\n",
    "11. **month** - Last month of contact<br>\n",
    "12. **duration** - Last contact duration (numeric)<br>\n",
    "13. **campaign** - number of contacts (numeric) <br>\n",
    "14. **pdays** - number of days that passed by after the client was last contacted.<br>\n",
    "15. **previous** - number of contacts performed before this campaign and for this client <br>\n",
    "16. **poutcome** - outcome of the previous campaign<br>\n",
    "\n",
    "**Output Variable**\n",
    "1. **Deposit** - client subscription (categorical)"
   ]
  },
  {
   "cell_type": "markdown",
   "metadata": {},
   "source": [
    "### Importing Libraries and Dataset"
   ]
  },
  {
   "cell_type": "code",
   "execution_count": 1,
   "metadata": {},
   "outputs": [
    {
     "data": {
      "text/html": [
       "<div>\n",
       "<style scoped>\n",
       "    .dataframe tbody tr th:only-of-type {\n",
       "        vertical-align: middle;\n",
       "    }\n",
       "\n",
       "    .dataframe tbody tr th {\n",
       "        vertical-align: top;\n",
       "    }\n",
       "\n",
       "    .dataframe thead th {\n",
       "        text-align: right;\n",
       "    }\n",
       "</style>\n",
       "<table border=\"1\" class=\"dataframe\">\n",
       "  <thead>\n",
       "    <tr style=\"text-align: right;\">\n",
       "      <th></th>\n",
       "      <th>age</th>\n",
       "      <th>job</th>\n",
       "      <th>marital</th>\n",
       "      <th>education</th>\n",
       "      <th>default</th>\n",
       "      <th>balance</th>\n",
       "      <th>housing</th>\n",
       "      <th>loan</th>\n",
       "      <th>contact</th>\n",
       "      <th>day</th>\n",
       "      <th>month</th>\n",
       "      <th>duration</th>\n",
       "      <th>campaign</th>\n",
       "      <th>pdays</th>\n",
       "      <th>previous</th>\n",
       "      <th>poutcome</th>\n",
       "      <th>deposit</th>\n",
       "    </tr>\n",
       "  </thead>\n",
       "  <tbody>\n",
       "    <tr>\n",
       "      <th>0</th>\n",
       "      <td>59</td>\n",
       "      <td>admin.</td>\n",
       "      <td>married</td>\n",
       "      <td>secondary</td>\n",
       "      <td>no</td>\n",
       "      <td>2343</td>\n",
       "      <td>yes</td>\n",
       "      <td>no</td>\n",
       "      <td>unknown</td>\n",
       "      <td>5</td>\n",
       "      <td>may</td>\n",
       "      <td>1042</td>\n",
       "      <td>1</td>\n",
       "      <td>-1</td>\n",
       "      <td>0</td>\n",
       "      <td>unknown</td>\n",
       "      <td>yes</td>\n",
       "    </tr>\n",
       "    <tr>\n",
       "      <th>1</th>\n",
       "      <td>56</td>\n",
       "      <td>admin.</td>\n",
       "      <td>married</td>\n",
       "      <td>secondary</td>\n",
       "      <td>no</td>\n",
       "      <td>45</td>\n",
       "      <td>no</td>\n",
       "      <td>no</td>\n",
       "      <td>unknown</td>\n",
       "      <td>5</td>\n",
       "      <td>may</td>\n",
       "      <td>1467</td>\n",
       "      <td>1</td>\n",
       "      <td>-1</td>\n",
       "      <td>0</td>\n",
       "      <td>unknown</td>\n",
       "      <td>yes</td>\n",
       "    </tr>\n",
       "    <tr>\n",
       "      <th>2</th>\n",
       "      <td>41</td>\n",
       "      <td>technician</td>\n",
       "      <td>married</td>\n",
       "      <td>secondary</td>\n",
       "      <td>no</td>\n",
       "      <td>1270</td>\n",
       "      <td>yes</td>\n",
       "      <td>no</td>\n",
       "      <td>unknown</td>\n",
       "      <td>5</td>\n",
       "      <td>may</td>\n",
       "      <td>1389</td>\n",
       "      <td>1</td>\n",
       "      <td>-1</td>\n",
       "      <td>0</td>\n",
       "      <td>unknown</td>\n",
       "      <td>yes</td>\n",
       "    </tr>\n",
       "    <tr>\n",
       "      <th>3</th>\n",
       "      <td>55</td>\n",
       "      <td>services</td>\n",
       "      <td>married</td>\n",
       "      <td>secondary</td>\n",
       "      <td>no</td>\n",
       "      <td>2476</td>\n",
       "      <td>yes</td>\n",
       "      <td>no</td>\n",
       "      <td>unknown</td>\n",
       "      <td>5</td>\n",
       "      <td>may</td>\n",
       "      <td>579</td>\n",
       "      <td>1</td>\n",
       "      <td>-1</td>\n",
       "      <td>0</td>\n",
       "      <td>unknown</td>\n",
       "      <td>yes</td>\n",
       "    </tr>\n",
       "    <tr>\n",
       "      <th>4</th>\n",
       "      <td>54</td>\n",
       "      <td>admin.</td>\n",
       "      <td>married</td>\n",
       "      <td>tertiary</td>\n",
       "      <td>no</td>\n",
       "      <td>184</td>\n",
       "      <td>no</td>\n",
       "      <td>no</td>\n",
       "      <td>unknown</td>\n",
       "      <td>5</td>\n",
       "      <td>may</td>\n",
       "      <td>673</td>\n",
       "      <td>2</td>\n",
       "      <td>-1</td>\n",
       "      <td>0</td>\n",
       "      <td>unknown</td>\n",
       "      <td>yes</td>\n",
       "    </tr>\n",
       "  </tbody>\n",
       "</table>\n",
       "</div>"
      ],
      "text/plain": [
       "   age         job  marital  education default  balance housing loan  contact  \\\n",
       "0   59      admin.  married  secondary      no     2343     yes   no  unknown   \n",
       "1   56      admin.  married  secondary      no       45      no   no  unknown   \n",
       "2   41  technician  married  secondary      no     1270     yes   no  unknown   \n",
       "3   55    services  married  secondary      no     2476     yes   no  unknown   \n",
       "4   54      admin.  married   tertiary      no      184      no   no  unknown   \n",
       "\n",
       "   day month  duration  campaign  pdays  previous poutcome deposit  \n",
       "0    5   may      1042         1     -1         0  unknown     yes  \n",
       "1    5   may      1467         1     -1         0  unknown     yes  \n",
       "2    5   may      1389         1     -1         0  unknown     yes  \n",
       "3    5   may       579         1     -1         0  unknown     yes  \n",
       "4    5   may       673         2     -1         0  unknown     yes  "
      ]
     },
     "execution_count": 1,
     "metadata": {},
     "output_type": "execute_result"
    }
   ],
   "source": [
    "import numpy as np\n",
    "import pandas as pd\n",
    "import matplotlib.pyplot as plt\n",
    "import seaborn as sns\n",
    "\n",
    "dataset = pd.read_csv('bank.csv')\n",
    "copy_dataset = dataset.copy()\n",
    "X = dataset.iloc[:, :-1].values\n",
    "y = dataset.iloc[:, -1].values\n",
    "#A Brief glimpse of the dataset\n",
    "copy_dataset.head()"
   ]
  },
  {
   "cell_type": "markdown",
   "metadata": {},
   "source": [
    "### Exploratory Data Analysis"
   ]
  },
  {
   "cell_type": "code",
   "execution_count": 4,
   "metadata": {},
   "outputs": [
    {
     "name": "stdout",
     "output_type": "stream",
     "text": [
      "The number of rows within the Bank Marketing Dataset is: 11162\n"
     ]
    }
   ],
   "source": [
    "#Number of rows of the dataset\n",
    "print(\"The number of rows within the Bank Marketing Dataset is:\",len(dataset))"
   ]
  },
  {
   "cell_type": "code",
   "execution_count": 3,
   "metadata": {},
   "outputs": [
    {
     "name": "stdout",
     "output_type": "stream",
     "text": [
      "age          0\n",
      "job          0\n",
      "marital      0\n",
      "education    0\n",
      "default      0\n",
      "balance      0\n",
      "housing      0\n",
      "loan         0\n",
      "contact      0\n",
      "day          0\n",
      "month        0\n",
      "duration     0\n",
      "campaign     0\n",
      "pdays        0\n",
      "previous     0\n",
      "poutcome     0\n",
      "deposit      0\n",
      "dtype: int64\n"
     ]
    }
   ],
   "source": [
    "#Finding missing data\n",
    "missing_values = dataset.isnull().sum()\n",
    "print(missing_values)"
   ]
  },
  {
   "cell_type": "markdown",
   "metadata": {},
   "source": [
    "So there are no missing values in this dataset so no need for imputation. \n"
   ]
  },
  {
   "cell_type": "code",
   "execution_count": 4,
   "metadata": {},
   "outputs": [
    {
     "data": {
      "text/html": [
       "<div>\n",
       "<style scoped>\n",
       "    .dataframe tbody tr th:only-of-type {\n",
       "        vertical-align: middle;\n",
       "    }\n",
       "\n",
       "    .dataframe tbody tr th {\n",
       "        vertical-align: top;\n",
       "    }\n",
       "\n",
       "    .dataframe thead th {\n",
       "        text-align: right;\n",
       "    }\n",
       "</style>\n",
       "<table border=\"1\" class=\"dataframe\">\n",
       "  <thead>\n",
       "    <tr style=\"text-align: right;\">\n",
       "      <th></th>\n",
       "      <th>age</th>\n",
       "      <th>balance</th>\n",
       "      <th>day</th>\n",
       "      <th>duration</th>\n",
       "      <th>campaign</th>\n",
       "      <th>pdays</th>\n",
       "      <th>previous</th>\n",
       "    </tr>\n",
       "  </thead>\n",
       "  <tbody>\n",
       "    <tr>\n",
       "      <th>count</th>\n",
       "      <td>11162.000000</td>\n",
       "      <td>11162.000000</td>\n",
       "      <td>11162.000000</td>\n",
       "      <td>11162.000000</td>\n",
       "      <td>11162.000000</td>\n",
       "      <td>11162.000000</td>\n",
       "      <td>11162.000000</td>\n",
       "    </tr>\n",
       "    <tr>\n",
       "      <th>mean</th>\n",
       "      <td>41.231948</td>\n",
       "      <td>1528.538524</td>\n",
       "      <td>15.658036</td>\n",
       "      <td>371.993818</td>\n",
       "      <td>2.508421</td>\n",
       "      <td>51.330407</td>\n",
       "      <td>0.832557</td>\n",
       "    </tr>\n",
       "    <tr>\n",
       "      <th>std</th>\n",
       "      <td>11.913369</td>\n",
       "      <td>3225.413326</td>\n",
       "      <td>8.420740</td>\n",
       "      <td>347.128386</td>\n",
       "      <td>2.722077</td>\n",
       "      <td>108.758282</td>\n",
       "      <td>2.292007</td>\n",
       "    </tr>\n",
       "    <tr>\n",
       "      <th>min</th>\n",
       "      <td>18.000000</td>\n",
       "      <td>-6847.000000</td>\n",
       "      <td>1.000000</td>\n",
       "      <td>2.000000</td>\n",
       "      <td>1.000000</td>\n",
       "      <td>-1.000000</td>\n",
       "      <td>0.000000</td>\n",
       "    </tr>\n",
       "    <tr>\n",
       "      <th>25%</th>\n",
       "      <td>32.000000</td>\n",
       "      <td>122.000000</td>\n",
       "      <td>8.000000</td>\n",
       "      <td>138.000000</td>\n",
       "      <td>1.000000</td>\n",
       "      <td>-1.000000</td>\n",
       "      <td>0.000000</td>\n",
       "    </tr>\n",
       "    <tr>\n",
       "      <th>50%</th>\n",
       "      <td>39.000000</td>\n",
       "      <td>550.000000</td>\n",
       "      <td>15.000000</td>\n",
       "      <td>255.000000</td>\n",
       "      <td>2.000000</td>\n",
       "      <td>-1.000000</td>\n",
       "      <td>0.000000</td>\n",
       "    </tr>\n",
       "    <tr>\n",
       "      <th>75%</th>\n",
       "      <td>49.000000</td>\n",
       "      <td>1708.000000</td>\n",
       "      <td>22.000000</td>\n",
       "      <td>496.000000</td>\n",
       "      <td>3.000000</td>\n",
       "      <td>20.750000</td>\n",
       "      <td>1.000000</td>\n",
       "    </tr>\n",
       "    <tr>\n",
       "      <th>max</th>\n",
       "      <td>95.000000</td>\n",
       "      <td>81204.000000</td>\n",
       "      <td>31.000000</td>\n",
       "      <td>3881.000000</td>\n",
       "      <td>63.000000</td>\n",
       "      <td>854.000000</td>\n",
       "      <td>58.000000</td>\n",
       "    </tr>\n",
       "  </tbody>\n",
       "</table>\n",
       "</div>"
      ],
      "text/plain": [
       "                age       balance           day      duration      campaign  \\\n",
       "count  11162.000000  11162.000000  11162.000000  11162.000000  11162.000000   \n",
       "mean      41.231948   1528.538524     15.658036    371.993818      2.508421   \n",
       "std       11.913369   3225.413326      8.420740    347.128386      2.722077   \n",
       "min       18.000000  -6847.000000      1.000000      2.000000      1.000000   \n",
       "25%       32.000000    122.000000      8.000000    138.000000      1.000000   \n",
       "50%       39.000000    550.000000     15.000000    255.000000      2.000000   \n",
       "75%       49.000000   1708.000000     22.000000    496.000000      3.000000   \n",
       "max       95.000000  81204.000000     31.000000   3881.000000     63.000000   \n",
       "\n",
       "              pdays      previous  \n",
       "count  11162.000000  11162.000000  \n",
       "mean      51.330407      0.832557  \n",
       "std      108.758282      2.292007  \n",
       "min       -1.000000      0.000000  \n",
       "25%       -1.000000      0.000000  \n",
       "50%       -1.000000      0.000000  \n",
       "75%       20.750000      1.000000  \n",
       "max      854.000000     58.000000  "
      ]
     },
     "execution_count": 4,
     "metadata": {},
     "output_type": "execute_result"
    }
   ],
   "source": [
    "dataset.describe()"
   ]
  },
  {
   "cell_type": "markdown",
   "metadata": {},
   "source": [
    "Majority of the features are categorical so the numeric description doesn't provide much information. Lets have a view as to how the numerical data are distributed."
   ]
  },
  {
   "cell_type": "code",
   "execution_count": 5,
   "metadata": {},
   "outputs": [
    {
     "data": {
      "image/png": "[encoded data removed]",
      "text/plain": [
       "<Figure size 1656x864 with 9 Axes>"
      ]
     },
     "metadata": {},
     "output_type": "display_data"
    }
   ],
   "source": [
    "# Let's see how the numeric data is distributed.\n",
    "import matplotlib.pyplot as plt\n",
    "plt.style.use('seaborn-whitegrid')\n",
    "\n",
    "dataset.hist(bins=20, figsize=(23,12), color='#385E0F')\n",
    "plt.show()"
   ]
  },
  {
   "cell_type": "code",
   "execution_count": 7,
   "metadata": {
    "scrolled": true
   },
   "outputs": [
    {
     "data": {
      "text/plain": [
       "<AxesSubplot:xlabel='loan', ylabel='count'>"
      ]
     },
     "execution_count": 7,
     "metadata": {},
     "output_type": "execute_result"
    },
    {
     "data": {
      "image/png": "[encoded data removed]",
      "text/plain": [
       "<Figure size 432x288 with 1 Axes>"
      ]
     },
     "metadata": {},
     "output_type": "display_data"
    }
   ],
   "source": [
    "sns.countplot(x='loan', hue='deposit', data=dataset)"
   ]
  },
  {
   "cell_type": "markdown",
   "metadata": {},
   "source": [
    "From the above plots, there are higher chances of customers who do not have personal loans or housing loans to open a term deposit account.\n",
    "\n",
    "We will look to see if there is any relationship between age and opening a term deposit, going to segregate the ages within the dataset into various age groups."
   ]
  },
  {
   "cell_type": "code",
   "execution_count": 8,
   "metadata": {},
   "outputs": [
    {
     "data": {
      "text/html": [
       "<div>\n",
       "<style scoped>\n",
       "    .dataframe tbody tr th:only-of-type {\n",
       "        vertical-align: middle;\n",
       "    }\n",
       "\n",
       "    .dataframe tbody tr th {\n",
       "        vertical-align: top;\n",
       "    }\n",
       "\n",
       "    .dataframe thead th {\n",
       "        text-align: right;\n",
       "    }\n",
       "</style>\n",
       "<table border=\"1\" class=\"dataframe\">\n",
       "  <thead>\n",
       "    <tr style=\"text-align: right;\">\n",
       "      <th></th>\n",
       "      <th>age</th>\n",
       "      <th>deposit</th>\n",
       "    </tr>\n",
       "  </thead>\n",
       "  <tbody>\n",
       "    <tr>\n",
       "      <th>0</th>\n",
       "      <td>25 - 40</td>\n",
       "      <td>yes</td>\n",
       "    </tr>\n",
       "    <tr>\n",
       "      <th>1</th>\n",
       "      <td>25 - 40</td>\n",
       "      <td>yes</td>\n",
       "    </tr>\n",
       "    <tr>\n",
       "      <th>2</th>\n",
       "      <td>25 - 40</td>\n",
       "      <td>yes</td>\n",
       "    </tr>\n",
       "    <tr>\n",
       "      <th>3</th>\n",
       "      <td>25 - 40</td>\n",
       "      <td>yes</td>\n",
       "    </tr>\n",
       "    <tr>\n",
       "      <th>4</th>\n",
       "      <td>25 - 40</td>\n",
       "      <td>yes</td>\n",
       "    </tr>\n",
       "  </tbody>\n",
       "</table>\n",
       "</div>"
      ],
      "text/plain": [
       "       age deposit\n",
       "0  25 - 40     yes\n",
       "1  25 - 40     yes\n",
       "2  25 - 40     yes\n",
       "3  25 - 40     yes\n",
       "4  25 - 40     yes"
      ]
     },
     "execution_count": 8,
     "metadata": {},
     "output_type": "execute_result"
    }
   ],
   "source": [
    "#dataset.head()\n",
    "agegroup = dataset.loc[:, ('age','deposit')]\n",
    "\n",
    "#X_train_dat\n",
    "bins= [25,40,60,75,90,120]\n",
    "labels = ['18 - 25','25 - 40','40 - 60','60 - 75', '75-90']\n",
    "agegroup['age'] = pd.cut(agegroup['age'], bins=bins, labels=labels, right=False)\n",
    "agegroup.head()"
   ]
  },
  {
   "cell_type": "code",
   "execution_count": 16,
   "metadata": {
    "scrolled": true
   },
   "outputs": [
    {
     "data": {
      "image/png": "[encoded data removed]",
      "text/plain": [
       "<Figure size 720x576 with 1 Axes>"
      ]
     },
     "metadata": {},
     "output_type": "display_data"
    }
   ],
   "source": [
    "f, ax = plt.subplots(figsize=(10,8))\n",
    "sns.countplot(x='age',hue='deposit',data=agegroup, ax=ax)\n",
    "#sns.barplot(x=agegroup['age'], y=len(agegroup['deposit']), hue=agegroup['deposit'], \n",
    " #           palette=['#7CFC00','#EE0000'], data=agegroup, estimator=lambda x: len(x))\n",
    "#ax[1].set(ylabel=\"(%)\")\n",
    "#ax[1].set_xticklabels(df[\"education\"].unique(), rotation=0, rotation_mode=\"anchor\")\n",
    "plt.show()"
   ]
  },
  {
   "cell_type": "markdown",
   "metadata": {},
   "source": [
    "From the above, we can see that the age from 40 and above, have a better probability to subscribe to term deposit. The age group with the lowest probability of having a successful outcome is within 25-40. However there would be other factors that would influence this such as balance, education, marketing duration etc."
   ]
  },
  {
   "cell_type": "code",
   "execution_count": 10,
   "metadata": {
    "scrolled": false
   },
   "outputs": [
    {
     "data": {
      "text/plain": [
       "<AxesSubplot:xlabel='education', ylabel='count'>"
      ]
     },
     "execution_count": 10,
     "metadata": {},
     "output_type": "execute_result"
    },
    {
     "data": {
      "image/png": "[encoded data removed]",
      "text/plain": [
       "<Figure size 432x288 with 1 Axes>"
      ]
     },
     "metadata": {},
     "output_type": "display_data"
    }
   ],
   "source": [
    "#f, ax = plt.subplots(figsize=(10,8))\n",
    "sns.countplot(x='education',hue='deposit',data=dataset)\n",
    "#sns.barplot(x=dataset['education'], y=len(dataset['deposit']), hue=dataset['deposit'], palette=['#7CFC00','#EE0000'], data=dataset, estimator=lambda x: len(x))\n",
    "#ax[1].set(ylabel=\"(%)\")\n",
    "#plt.show()"
   ]
  },
  {
   "cell_type": "markdown",
   "metadata": {},
   "source": [
    "From the above chart, customers with tertiary education have higher chances than other educational categories."
   ]
  },
  {
   "cell_type": "code",
   "execution_count": 13,
   "metadata": {},
   "outputs": [
    {
     "data": {
      "image/png": "[encoded data removed]",
      "text/plain": [
       "<Figure size 720x576 with 1 Axes>"
      ]
     },
     "metadata": {},
     "output_type": "display_data"
    }
   ],
   "source": [
    "f, ax = plt.subplots(figsize=(10,8))\n",
    "g = sns.boxplot(x=\"default\", y=\"balance\", hue=\"deposit\",\n",
    "                    data=dataset, palette=['#7CFC00','#EE0000'])\n",
    "\n",
    "g.set_title(\"Amount of Balance by Term Suscriptions\")\n",
    "plt.show()"
   ]
  },
  {
   "cell_type": "code",
   "execution_count": 14,
   "metadata": {
    "scrolled": true
   },
   "outputs": [
    {
     "data": {
      "image/png": "[encoded data removed]",
      "text/plain": [
       "<Figure size 720x576 with 1 Axes>"
      ]
     },
     "metadata": {},
     "output_type": "display_data"
    }
   ],
   "source": [
    "f, ax = plt.subplots(figsize=(10,8))\n",
    "g1 = sns.boxplot(x=\"job\", y=\"balance\", hue=\"deposit\",\n",
    "                 data=dataset, palette=['#7CFC00','#EE0000'])\n",
    "g1.set_xticklabels(dataset[\"job\"].unique(), rotation=90, rotation_mode=\"anchor\")\n",
    "plt.show()\n"
   ]
  },
  {
   "cell_type": "code",
   "execution_count": 15,
   "metadata": {
    "scrolled": true
   },
   "outputs": [
    {
     "data": {
      "image/png": "[encoded data removed]",
      "text/plain": [
       "<Figure size 1008x576 with 1 Axes>"
      ]
     },
     "metadata": {},
     "output_type": "display_data"
    }
   ],
   "source": [
    "#g_plot=sns.barplot(x=dataset['job'], y=len(dataset['deposit']), hue=dataset['deposit'], \n",
    " #                  palette=['#7CFC00','#EE0000'], data=dataset, estimator=lambda x: len(x))\n",
    "#g_plot.set_xticklabels(dataset[\"job\"].unique(), rotation=90)\n",
    "f, ax = plt.subplots(figsize=(14,8))\n",
    "sns.countplot(x='job',hue='deposit',data=dataset, ax=ax)\n",
    "plt.show()"
   ]
  },
  {
   "cell_type": "markdown",
   "metadata": {},
   "source": [
    "Different types of job seem to have an influence on whether the customers would open a term deposit account. Blue collar having the least success which is not really a surprise.\n",
    "\n",
    "Management, student and retired are amongst the group with higher chances of having success within could validate the age segregation, with \n",
    "Management and retired customers within the 40+ age group."
   ]
  },
  {
   "cell_type": "code",
   "execution_count": 21,
   "metadata": {
    "scrolled": false
   },
   "outputs": [
    {
     "data": {
      "image/png": "[encoded data removed]",
      "text/plain": [
       "<Figure size 864x360 with 2 Axes>"
      ]
     },
     "metadata": {},
     "output_type": "display_data"
    }
   ],
   "source": [
    "f, ax = plt.subplots(1,2,figsize=(12,5))\n",
    "#sns.barplot(x=dataset['marital'], y=len(dataset['deposit']), hue=dataset['deposit'],\n",
    "#            palette=['#7CFC00','#EE0000'], data=dataset, estimator=lambda x: len(x), ax=ax[0])\n",
    "#sns.barplot(x=dataset['contact'], y=len(dataset['deposit']), hue=dataset['deposit'], palette=['#7CFC00','#EE0000'], \n",
    "#            data=dataset, estimator=lambda x: len(x), ax=ax[1])\n",
    "sns.countplot(x='marital',hue='deposit',data=dataset, ax=ax[0])\n",
    "sns.countplot(x='contact',hue='deposit',data=dataset, ax=ax[1])\n",
    "plt.show()"
   ]
  },
  {
   "cell_type": "markdown",
   "metadata": {},
   "source": [
    "Seems married people are less likely to subsribe for the term deposit subscription unlike divorced and single customers who are more likely. Single customers have the best chances based on our data."
   ]
  },
  {
   "cell_type": "code",
   "execution_count": 24,
   "metadata": {},
   "outputs": [],
   "source": [
    "#Understanding the duration\n",
    "duration_status = dataset.loc[:, ('duration','deposit')]\n",
    "avg_duration = dataset['duration'].mean()\n",
    "#X_train_dat\n",
    "bins=[-1,avg_duration, max(dataset['duration'])]\n",
    "\n",
    "labels = ['below average','above average']\n",
    "duration_status['duration'] = pd.cut(duration_status['duration'], bins=bins, labels=labels, right=False)\n",
    "#print (duration_status)\n"
   ]
  },
  {
   "cell_type": "code",
   "execution_count": 25,
   "metadata": {
    "scrolled": true
   },
   "outputs": [
    {
     "data": {
      "text/plain": [
       "<AxesSubplot:xlabel='duration', ylabel='count'>"
      ]
     },
     "execution_count": 25,
     "metadata": {},
     "output_type": "execute_result"
    },
    {
     "data": {
      "image/png": "[encoded data removed]",
      "text/plain": [
       "<Figure size 720x576 with 1 Axes>"
      ]
     },
     "metadata": {},
     "output_type": "display_data"
    }
   ],
   "source": [
    "f, ax = plt.subplots(figsize=(10,8))\n",
    "#sns.barplot(x=duration_status['duration'], y=len(['deposit']), hue=duration_status['deposit'], \n",
    "#            palette=['#7CFC00','#EE0000'], data=agegroup, estimator=lambda x: len(x))\n",
    "sns.countplot(x='duration',hue='deposit',data=duration_status, ax=ax)"
   ]
  },
  {
   "cell_type": "markdown",
   "metadata": {},
   "source": [
    "Duration of the contact with customers has an influence on the outcome, as the chances of success improve when the duration of the contact is above average. This would probably be due to the fact that customers who are interested in the accounts would prolong the conversation."
   ]
  },
  {
   "cell_type": "markdown",
   "metadata": {},
   "source": [
    "### Encoding the categorical variables and Feature Scaling"
   ]
  },
  {
   "cell_type": "markdown",
   "metadata": {},
   "source": [
    "Since a lot of the columns within the dataset are categorical, it is important to encode the data and also use One hot encodiing to avoid suggesting hierarchical relationship between the various groups.\n",
    "Feature scaling will also be done using the StandardScaler()."
   ]
  },
  {
   "cell_type": "code",
   "execution_count": 5,
   "metadata": {},
   "outputs": [],
   "source": [
    "dataset_copy = dataset\n",
    "\n",
    "from sklearn.preprocessing import StandardScaler, OneHotEncoder\n",
    "from sklearn.compose import ColumnTransformer, make_column_transformer\n",
    "\n"
   ]
  },
  {
   "cell_type": "code",
   "execution_count": 29,
   "metadata": {
    "scrolled": true
   },
   "outputs": [
    {
     "data": {
      "text/html": [
       "<div>\n",
       "<style scoped>\n",
       "    .dataframe tbody tr th:only-of-type {\n",
       "        vertical-align: middle;\n",
       "    }\n",
       "\n",
       "    .dataframe tbody tr th {\n",
       "        vertical-align: top;\n",
       "    }\n",
       "\n",
       "    .dataframe thead th {\n",
       "        text-align: right;\n",
       "    }\n",
       "</style>\n",
       "<table border=\"1\" class=\"dataframe\">\n",
       "  <thead>\n",
       "    <tr style=\"text-align: right;\">\n",
       "      <th></th>\n",
       "      <th>age</th>\n",
       "      <th>job</th>\n",
       "      <th>marital</th>\n",
       "      <th>education</th>\n",
       "      <th>default</th>\n",
       "      <th>balance</th>\n",
       "      <th>housing</th>\n",
       "      <th>loan</th>\n",
       "      <th>contact</th>\n",
       "      <th>day</th>\n",
       "      <th>month</th>\n",
       "      <th>duration</th>\n",
       "      <th>campaign</th>\n",
       "      <th>pdays</th>\n",
       "      <th>previous</th>\n",
       "      <th>poutcome</th>\n",
       "      <th>deposit</th>\n",
       "    </tr>\n",
       "  </thead>\n",
       "  <tbody>\n",
       "    <tr>\n",
       "      <th>0</th>\n",
       "      <td>59</td>\n",
       "      <td>admin.</td>\n",
       "      <td>married</td>\n",
       "      <td>secondary</td>\n",
       "      <td>no</td>\n",
       "      <td>2343</td>\n",
       "      <td>yes</td>\n",
       "      <td>no</td>\n",
       "      <td>unknown</td>\n",
       "      <td>5</td>\n",
       "      <td>may</td>\n",
       "      <td>1042</td>\n",
       "      <td>1</td>\n",
       "      <td>-1</td>\n",
       "      <td>0</td>\n",
       "      <td>unknown</td>\n",
       "      <td>yes</td>\n",
       "    </tr>\n",
       "    <tr>\n",
       "      <th>1</th>\n",
       "      <td>56</td>\n",
       "      <td>admin.</td>\n",
       "      <td>married</td>\n",
       "      <td>secondary</td>\n",
       "      <td>no</td>\n",
       "      <td>45</td>\n",
       "      <td>no</td>\n",
       "      <td>no</td>\n",
       "      <td>unknown</td>\n",
       "      <td>5</td>\n",
       "      <td>may</td>\n",
       "      <td>1467</td>\n",
       "      <td>1</td>\n",
       "      <td>-1</td>\n",
       "      <td>0</td>\n",
       "      <td>unknown</td>\n",
       "      <td>yes</td>\n",
       "    </tr>\n",
       "    <tr>\n",
       "      <th>2</th>\n",
       "      <td>41</td>\n",
       "      <td>technician</td>\n",
       "      <td>married</td>\n",
       "      <td>secondary</td>\n",
       "      <td>no</td>\n",
       "      <td>1270</td>\n",
       "      <td>yes</td>\n",
       "      <td>no</td>\n",
       "      <td>unknown</td>\n",
       "      <td>5</td>\n",
       "      <td>may</td>\n",
       "      <td>1389</td>\n",
       "      <td>1</td>\n",
       "      <td>-1</td>\n",
       "      <td>0</td>\n",
       "      <td>unknown</td>\n",
       "      <td>yes</td>\n",
       "    </tr>\n",
       "    <tr>\n",
       "      <th>3</th>\n",
       "      <td>55</td>\n",
       "      <td>services</td>\n",
       "      <td>married</td>\n",
       "      <td>secondary</td>\n",
       "      <td>no</td>\n",
       "      <td>2476</td>\n",
       "      <td>yes</td>\n",
       "      <td>no</td>\n",
       "      <td>unknown</td>\n",
       "      <td>5</td>\n",
       "      <td>may</td>\n",
       "      <td>579</td>\n",
       "      <td>1</td>\n",
       "      <td>-1</td>\n",
       "      <td>0</td>\n",
       "      <td>unknown</td>\n",
       "      <td>yes</td>\n",
       "    </tr>\n",
       "    <tr>\n",
       "      <th>4</th>\n",
       "      <td>54</td>\n",
       "      <td>admin.</td>\n",
       "      <td>married</td>\n",
       "      <td>tertiary</td>\n",
       "      <td>no</td>\n",
       "      <td>184</td>\n",
       "      <td>no</td>\n",
       "      <td>no</td>\n",
       "      <td>unknown</td>\n",
       "      <td>5</td>\n",
       "      <td>may</td>\n",
       "      <td>673</td>\n",
       "      <td>2</td>\n",
       "      <td>-1</td>\n",
       "      <td>0</td>\n",
       "      <td>unknown</td>\n",
       "      <td>yes</td>\n",
       "    </tr>\n",
       "    <tr>\n",
       "      <th>...</th>\n",
       "      <td>...</td>\n",
       "      <td>...</td>\n",
       "      <td>...</td>\n",
       "      <td>...</td>\n",
       "      <td>...</td>\n",
       "      <td>...</td>\n",
       "      <td>...</td>\n",
       "      <td>...</td>\n",
       "      <td>...</td>\n",
       "      <td>...</td>\n",
       "      <td>...</td>\n",
       "      <td>...</td>\n",
       "      <td>...</td>\n",
       "      <td>...</td>\n",
       "      <td>...</td>\n",
       "      <td>...</td>\n",
       "      <td>...</td>\n",
       "    </tr>\n",
       "    <tr>\n",
       "      <th>11157</th>\n",
       "      <td>33</td>\n",
       "      <td>blue-collar</td>\n",
       "      <td>single</td>\n",
       "      <td>primary</td>\n",
       "      <td>no</td>\n",
       "      <td>1</td>\n",
       "      <td>yes</td>\n",
       "      <td>no</td>\n",
       "      <td>cellular</td>\n",
       "      <td>20</td>\n",
       "      <td>apr</td>\n",
       "      <td>257</td>\n",
       "      <td>1</td>\n",
       "      <td>-1</td>\n",
       "      <td>0</td>\n",
       "      <td>unknown</td>\n",
       "      <td>no</td>\n",
       "    </tr>\n",
       "    <tr>\n",
       "      <th>11158</th>\n",
       "      <td>39</td>\n",
       "      <td>services</td>\n",
       "      <td>married</td>\n",
       "      <td>secondary</td>\n",
       "      <td>no</td>\n",
       "      <td>733</td>\n",
       "      <td>no</td>\n",
       "      <td>no</td>\n",
       "      <td>unknown</td>\n",
       "      <td>16</td>\n",
       "      <td>jun</td>\n",
       "      <td>83</td>\n",
       "      <td>4</td>\n",
       "      <td>-1</td>\n",
       "      <td>0</td>\n",
       "      <td>unknown</td>\n",
       "      <td>no</td>\n",
       "    </tr>\n",
       "    <tr>\n",
       "      <th>11159</th>\n",
       "      <td>32</td>\n",
       "      <td>technician</td>\n",
       "      <td>single</td>\n",
       "      <td>secondary</td>\n",
       "      <td>no</td>\n",
       "      <td>29</td>\n",
       "      <td>no</td>\n",
       "      <td>no</td>\n",
       "      <td>cellular</td>\n",
       "      <td>19</td>\n",
       "      <td>aug</td>\n",
       "      <td>156</td>\n",
       "      <td>2</td>\n",
       "      <td>-1</td>\n",
       "      <td>0</td>\n",
       "      <td>unknown</td>\n",
       "      <td>no</td>\n",
       "    </tr>\n",
       "    <tr>\n",
       "      <th>11160</th>\n",
       "      <td>43</td>\n",
       "      <td>technician</td>\n",
       "      <td>married</td>\n",
       "      <td>secondary</td>\n",
       "      <td>no</td>\n",
       "      <td>0</td>\n",
       "      <td>no</td>\n",
       "      <td>yes</td>\n",
       "      <td>cellular</td>\n",
       "      <td>8</td>\n",
       "      <td>may</td>\n",
       "      <td>9</td>\n",
       "      <td>2</td>\n",
       "      <td>172</td>\n",
       "      <td>5</td>\n",
       "      <td>failure</td>\n",
       "      <td>no</td>\n",
       "    </tr>\n",
       "    <tr>\n",
       "      <th>11161</th>\n",
       "      <td>34</td>\n",
       "      <td>technician</td>\n",
       "      <td>married</td>\n",
       "      <td>secondary</td>\n",
       "      <td>no</td>\n",
       "      <td>0</td>\n",
       "      <td>no</td>\n",
       "      <td>no</td>\n",
       "      <td>cellular</td>\n",
       "      <td>9</td>\n",
       "      <td>jul</td>\n",
       "      <td>628</td>\n",
       "      <td>1</td>\n",
       "      <td>-1</td>\n",
       "      <td>0</td>\n",
       "      <td>unknown</td>\n",
       "      <td>no</td>\n",
       "    </tr>\n",
       "  </tbody>\n",
       "</table>\n",
       "<p>11162 rows × 17 columns</p>\n",
       "</div>"
      ],
      "text/plain": [
       "       age          job  marital  education default  balance housing loan  \\\n",
       "0       59       admin.  married  secondary      no     2343     yes   no   \n",
       "1       56       admin.  married  secondary      no       45      no   no   \n",
       "2       41   technician  married  secondary      no     1270     yes   no   \n",
       "3       55     services  married  secondary      no     2476     yes   no   \n",
       "4       54       admin.  married   tertiary      no      184      no   no   \n",
       "...    ...          ...      ...        ...     ...      ...     ...  ...   \n",
       "11157   33  blue-collar   single    primary      no        1     yes   no   \n",
       "11158   39     services  married  secondary      no      733      no   no   \n",
       "11159   32   technician   single  secondary      no       29      no   no   \n",
       "11160   43   technician  married  secondary      no        0      no  yes   \n",
       "11161   34   technician  married  secondary      no        0      no   no   \n",
       "\n",
       "        contact  day month  duration  campaign  pdays  previous poutcome  \\\n",
       "0       unknown    5   may      1042         1     -1         0  unknown   \n",
       "1       unknown    5   may      1467         1     -1         0  unknown   \n",
       "2       unknown    5   may      1389         1     -1         0  unknown   \n",
       "3       unknown    5   may       579         1     -1         0  unknown   \n",
       "4       unknown    5   may       673         2     -1         0  unknown   \n",
       "...         ...  ...   ...       ...       ...    ...       ...      ...   \n",
       "11157  cellular   20   apr       257         1     -1         0  unknown   \n",
       "11158   unknown   16   jun        83         4     -1         0  unknown   \n",
       "11159  cellular   19   aug       156         2     -1         0  unknown   \n",
       "11160  cellular    8   may         9         2    172         5  failure   \n",
       "11161  cellular    9   jul       628         1     -1         0  unknown   \n",
       "\n",
       "      deposit  \n",
       "0         yes  \n",
       "1         yes  \n",
       "2         yes  \n",
       "3         yes  \n",
       "4         yes  \n",
       "...       ...  \n",
       "11157      no  \n",
       "11158      no  \n",
       "11159      no  \n",
       "11160      no  \n",
       "11161      no  \n",
       "\n",
       "[11162 rows x 17 columns]"
      ]
     },
     "execution_count": 29,
     "metadata": {},
     "output_type": "execute_result"
    }
   ],
   "source": [
    "dataset"
   ]
  },
  {
   "cell_type": "code",
   "execution_count": 2,
   "metadata": {},
   "outputs": [],
   "source": [
    "X = dataset.iloc[:, :-1]\n",
    "y = dataset.iloc[:, -1]"
   ]
  },
  {
   "cell_type": "code",
   "execution_count": 8,
   "metadata": {},
   "outputs": [],
   "source": [
    "X = preprocess.fit_transform(X)"
   ]
  },
  {
   "cell_type": "code",
   "execution_count": 9,
   "metadata": {},
   "outputs": [],
   "source": [
    "from sklearn.preprocessing import LabelEncoder\n",
    "\n",
    "le = LabelEncoder()\n",
    "y = le.fit_transform(y)"
   ]
  },
  {
   "cell_type": "code",
   "execution_count": 7,
   "metadata": {},
   "outputs": [],
   "source": [
    "preprocess = make_column_transformer(\n",
    "      (StandardScaler(),['age','balance','duration','day','campaign','pdays','previous']),\n",
    "      (OneHotEncoder(), ['job', 'education', 'marital','month','contact','poutcome','default','loan','housing']),\n",
    "       \n",
    "       remainder='passthrough'\n",
    "   )"
   ]
  },
  {
   "cell_type": "code",
   "execution_count": 12,
   "metadata": {},
   "outputs": [],
   "source": [
    "from sklearn.model_selection import train_test_split\n",
    "X_train, X_test, y_train, y_test = train_test_split(X, y, test_size = 0.25, random_state = 0)"
   ]
  },
  {
   "cell_type": "markdown",
   "metadata": {},
   "source": [
    "### Model Training"
   ]
  },
  {
   "cell_type": "markdown",
   "metadata": {},
   "source": [
    "Going to use the following Classification Models <br><br>\n",
    "- K- Nearest Neighbours<br>\n",
    "- Kernel SVM<br>\n",
    "- Naives Bayes<br>\n",
    "- Random Forest<br>\n",
    "- Xgboost<br>\n",
    "- Decision Tree\n",
    "\n",
    "And perform K-fold cross validation and grid search to find the optimal hyperparamters for Model accuracy."
   ]
  },
  {
   "cell_type": "code",
   "execution_count": 52,
   "metadata": {},
   "outputs": [
    {
     "name": "stdout",
     "output_type": "stream",
     "text": [
      "Collecting xgboost\n",
      "  Downloading xgboost-1.2.0-py3-none-win_amd64.whl (86.5 MB)\n",
      "Requirement already satisfied: numpy in c:\\users\\isung\\.conda\\envs\\mydevenv\\lib\\site-packages (from xgboost) (1.18.5)\n",
      "Requirement already satisfied: scipy in c:\\users\\isung\\.conda\\envs\\mydevenv\\lib\\site-packages (from xgboost) (1.4.1)\n",
      "Installing collected packages: xgboost\n",
      "Successfully installed xgboost-1.2.0\n",
      "Note: you may need to restart the kernel to use updated packages.\n"
     ]
    }
   ],
   "source": [
    "pip install xgboost"
   ]
  },
  {
   "cell_type": "code",
   "execution_count": 53,
   "metadata": {},
   "outputs": [],
   "source": [
    "import xgboost\n",
    "from sklearn.svm import SVC\n",
    "from sklearn.neighbors import KNeighborsClassifier\n",
    "from sklearn.tree import DecisionTreeClassifier\n",
    "from xgboost import XGBClassifier\n",
    "from sklearn.ensemble import RandomForestClassifier\n",
    "from sklearn.naive_bayes import GaussianNB\n",
    "from sklearn.model_selection import cross_val_score\n",
    "\n"
   ]
  },
  {
   "cell_type": "code",
   "execution_count": 54,
   "metadata": {},
   "outputs": [],
   "source": [
    "def RandomForestMode(X_train, y_train, X_test):\n",
    "    classifier = RandomForestClassifier(n_estimators = 10, criterion = 'entropy', random_state = 0)\n",
    "    classifier.fit(X_train, y_train)\n",
    "    y_pred = classifier.predict(X_test)\n",
    "    return y_pred"
   ]
  },
  {
   "cell_type": "code",
   "execution_count": 55,
   "metadata": {},
   "outputs": [],
   "source": [
    "def KernelSVMMode(X_train, y_train, X_test):\n",
    "    classifier = SVC(kernel = 'rbf', random_state = 0)\n",
    "    classifier.fit(X_train, y_train)\n",
    "    y_pred = classifier.predict(X_test)\n",
    "    return y_pred"
   ]
  },
  {
   "cell_type": "code",
   "execution_count": 56,
   "metadata": {},
   "outputs": [],
   "source": [
    "def KNNMode(X_train, y_train, X_test):\n",
    "    classifier = KNeighborsClassifier(n_neighbors = 5, metric = 'minkowski', p = 2)\n",
    "    classifier.fit(X_train, y_train)\n",
    "    y_pred = classifier.predict(X_test)\n",
    "    return y_pred"
   ]
  },
  {
   "cell_type": "code",
   "execution_count": 57,
   "metadata": {
    "scrolled": false
   },
   "outputs": [],
   "source": [
    "def DecisionTreeMode(X_train, y_train, X_test):\n",
    "    classifier = DecisionTreeClassifier(criterion = 'entropy', random_state = 0)\n",
    "    classifier.fit(X_train, y_train)\n",
    "    y_pred = classifier.predict(X_test)\n",
    "    return y_pred"
   ]
  },
  {
   "cell_type": "code",
   "execution_count": 58,
   "metadata": {},
   "outputs": [],
   "source": [
    "def BayesMode(X_train, y_train, X_test):\n",
    "    classifier = GaussianNB()\n",
    "    classifier.fit(X_train, y_train)\n",
    "    y_pred = classifier.predict(X_test)\n",
    "    return y_pred"
   ]
  },
  {
   "cell_type": "code",
   "execution_count": 59,
   "metadata": {},
   "outputs": [],
   "source": [
    "def XGBMode(X_train, y_train, X_test):\n",
    "    classifier = XGBClassifier()\n",
    "    classifier.fit(X_train, y_train)\n",
    "    y_pred = classifier.predict(X_test)\n",
    "    return y_pred"
   ]
  },
  {
   "cell_type": "code",
   "execution_count": 66,
   "metadata": {},
   "outputs": [],
   "source": [
    "#from sklearn.metrics import confusion_matrix, accuracy_score\n",
    "#y_predicted = KNNMode(X_train_data, y_train_data, X_test_data)\n",
    "#cm = confusion_matrix(y_test_data, y_predicted)\n",
    "#print(cm)\n",
    "#accuracy_score(y_test_data, y_predicted)"
   ]
  },
  {
   "cell_type": "code",
   "execution_count": 67,
   "metadata": {},
   "outputs": [],
   "source": [
    "#from sklearn.metrics import confusion_matrix, accuracy_score\n",
    "#y_predicted = RandomForestMode(X_train_data, y_train_data, X_test_data)\n",
    "#cm = confusion_matrix(y_test_data, y_predicted)\n",
    "#print(cm)\n",
    "#accuracy_score(y_test_data, y_predicted)"
   ]
  },
  {
   "cell_type": "code",
   "execution_count": 63,
   "metadata": {},
   "outputs": [],
   "source": [
    "def ModelChecks(X_train, y_train, X_test):\n",
    "    y_pred_RF = RandomForestMode(X_train, y_train, X_test)\n",
    "    y_pred_KNN = KNNMode(X_train, y_train, X_test)\n",
    "    y_pred_SVM = KernelSVMMode(X_train, y_train, X_test)\n",
    "    y_pred_DT = DecisionTreeMode(X_train, y_train, X_test)\n",
    "    y_pred_NB = BayesMode(X_train, y_train, X_test)\n",
    "    y_pred_XGB = XGBMode(X_train, y_train, X_test)\n",
    "    \n",
    "    d = {'Classifiers': ['SVC', 'KNN', 'Dec Tree', 'Rand FC',  'Naives Bayes','XGB'], \n",
    "    'Accuracy Score': [accuracy_score(y_test,y_pred_SVM)*100,accuracy_score(y_test,y_pred_KNN)*100,\n",
    "                       accuracy_score(y_test,y_pred_DT)*100,accuracy_score(y_test,y_pred_RF)*100,\n",
    "                       accuracy_score(y_test,y_pred_NB)*100,\n",
    "                       accuracy_score(y_test,y_pred_XGB)*100]}\n",
    "    result_df = pd.DataFrame(data=d)\n",
    "    return result_df"
   ]
  },
  {
   "cell_type": "code",
   "execution_count": null,
   "metadata": {},
   "outputs": [],
   "source": [
    "X_train, X_test, y_train, y_test = train_test_split(X, y, test_size = 0.25, random_state = 0)"
   ]
  },
  {
   "cell_type": "code",
   "execution_count": 64,
   "metadata": {},
   "outputs": [
    {
     "name": "stderr",
     "output_type": "stream",
     "text": [
      "C:\\Users\\isung\\.conda\\envs\\mydevenv\\lib\\site-packages\\sklearn\\svm\\base.py:193: FutureWarning: The default value of gamma will change from 'auto' to 'scale' in version 0.22 to account better for unscaled features. Set gamma explicitly to 'auto' or 'scale' to avoid this warning.\n",
      "  \"avoid this warning.\", FutureWarning)\n"
     ]
    },
    {
     "data": {
      "text/html": [
       "<div>\n",
       "<style scoped>\n",
       "    .dataframe tbody tr th:only-of-type {\n",
       "        vertical-align: middle;\n",
       "    }\n",
       "\n",
       "    .dataframe tbody tr th {\n",
       "        vertical-align: top;\n",
       "    }\n",
       "\n",
       "    .dataframe thead th {\n",
       "        text-align: right;\n",
       "    }\n",
       "</style>\n",
       "<table border=\"1\" class=\"dataframe\">\n",
       "  <thead>\n",
       "    <tr style=\"text-align: right;\">\n",
       "      <th></th>\n",
       "      <th>Classifiers</th>\n",
       "      <th>Accuracy Score</th>\n",
       "    </tr>\n",
       "  </thead>\n",
       "  <tbody>\n",
       "    <tr>\n",
       "      <th>0</th>\n",
       "      <td>SVC</td>\n",
       "      <td>83.876747</td>\n",
       "    </tr>\n",
       "    <tr>\n",
       "      <th>1</th>\n",
       "      <td>KNN</td>\n",
       "      <td>80.257972</td>\n",
       "    </tr>\n",
       "    <tr>\n",
       "      <th>2</th>\n",
       "      <td>Dec Tree</td>\n",
       "      <td>77.964887</td>\n",
       "    </tr>\n",
       "    <tr>\n",
       "      <th>3</th>\n",
       "      <td>Rand FC</td>\n",
       "      <td>82.730204</td>\n",
       "    </tr>\n",
       "    <tr>\n",
       "      <th>4</th>\n",
       "      <td>Naives Bayes</td>\n",
       "      <td>71.658904</td>\n",
       "    </tr>\n",
       "    <tr>\n",
       "      <th>5</th>\n",
       "      <td>XGB</td>\n",
       "      <td>85.345754</td>\n",
       "    </tr>\n",
       "  </tbody>\n",
       "</table>\n",
       "</div>"
      ],
      "text/plain": [
       "    Classifiers  Accuracy Score\n",
       "0           SVC       83.876747\n",
       "1           KNN       80.257972\n",
       "2      Dec Tree       77.964887\n",
       "3       Rand FC       82.730204\n",
       "4  Naives Bayes       71.658904\n",
       "5           XGB       85.345754"
      ]
     },
     "execution_count": 64,
     "metadata": {},
     "output_type": "execute_result"
    }
   ],
   "source": [
    "ModelChecks(X_train, y_train, X_test)"
   ]
  },
  {
   "cell_type": "markdown",
   "metadata": {},
   "source": [
    "The best model from the prediction is the XGB Mode with an accuracy of 85.3%.\n",
    "\n",
    "In order to avoid overfitting a model, we will use K fold cross validation on each models."
   ]
  },
  {
   "cell_type": "code",
   "execution_count": 74,
   "metadata": {},
   "outputs": [
    {
     "name": "stderr",
     "output_type": "stream",
     "text": [
      "C:\\Users\\isung\\.conda\\envs\\mydevenv\\lib\\site-packages\\sklearn\\svm\\base.py:193: FutureWarning: The default value of gamma will change from 'auto' to 'scale' in version 0.22 to account better for unscaled features. Set gamma explicitly to 'auto' or 'scale' to avoid this warning.\n",
      "  \"avoid this warning.\", FutureWarning)\n",
      "C:\\Users\\isung\\.conda\\envs\\mydevenv\\lib\\site-packages\\sklearn\\svm\\base.py:193: FutureWarning: The default value of gamma will change from 'auto' to 'scale' in version 0.22 to account better for unscaled features. Set gamma explicitly to 'auto' or 'scale' to avoid this warning.\n",
      "  \"avoid this warning.\", FutureWarning)\n",
      "C:\\Users\\isung\\.conda\\envs\\mydevenv\\lib\\site-packages\\sklearn\\svm\\base.py:193: FutureWarning: The default value of gamma will change from 'auto' to 'scale' in version 0.22 to account better for unscaled features. Set gamma explicitly to 'auto' or 'scale' to avoid this warning.\n",
      "  \"avoid this warning.\", FutureWarning)\n",
      "C:\\Users\\isung\\.conda\\envs\\mydevenv\\lib\\site-packages\\sklearn\\svm\\base.py:193: FutureWarning: The default value of gamma will change from 'auto' to 'scale' in version 0.22 to account better for unscaled features. Set gamma explicitly to 'auto' or 'scale' to avoid this warning.\n",
      "  \"avoid this warning.\", FutureWarning)\n",
      "C:\\Users\\isung\\.conda\\envs\\mydevenv\\lib\\site-packages\\sklearn\\svm\\base.py:193: FutureWarning: The default value of gamma will change from 'auto' to 'scale' in version 0.22 to account better for unscaled features. Set gamma explicitly to 'auto' or 'scale' to avoid this warning.\n",
      "  \"avoid this warning.\", FutureWarning)\n",
      "C:\\Users\\isung\\.conda\\envs\\mydevenv\\lib\\site-packages\\sklearn\\svm\\base.py:193: FutureWarning: The default value of gamma will change from 'auto' to 'scale' in version 0.22 to account better for unscaled features. Set gamma explicitly to 'auto' or 'scale' to avoid this warning.\n",
      "  \"avoid this warning.\", FutureWarning)\n",
      "C:\\Users\\isung\\.conda\\envs\\mydevenv\\lib\\site-packages\\sklearn\\svm\\base.py:193: FutureWarning: The default value of gamma will change from 'auto' to 'scale' in version 0.22 to account better for unscaled features. Set gamma explicitly to 'auto' or 'scale' to avoid this warning.\n",
      "  \"avoid this warning.\", FutureWarning)\n",
      "C:\\Users\\isung\\.conda\\envs\\mydevenv\\lib\\site-packages\\sklearn\\svm\\base.py:193: FutureWarning: The default value of gamma will change from 'auto' to 'scale' in version 0.22 to account better for unscaled features. Set gamma explicitly to 'auto' or 'scale' to avoid this warning.\n",
      "  \"avoid this warning.\", FutureWarning)\n",
      "C:\\Users\\isung\\.conda\\envs\\mydevenv\\lib\\site-packages\\sklearn\\svm\\base.py:193: FutureWarning: The default value of gamma will change from 'auto' to 'scale' in version 0.22 to account better for unscaled features. Set gamma explicitly to 'auto' or 'scale' to avoid this warning.\n",
      "  \"avoid this warning.\", FutureWarning)\n",
      "C:\\Users\\isung\\.conda\\envs\\mydevenv\\lib\\site-packages\\sklearn\\svm\\base.py:193: FutureWarning: The default value of gamma will change from 'auto' to 'scale' in version 0.22 to account better for unscaled features. Set gamma explicitly to 'auto' or 'scale' to avoid this warning.\n",
      "  \"avoid this warning.\", FutureWarning)\n"
     ]
    }
   ],
   "source": [
    "svc_clf = SVC(kernel = 'rbf', random_state = 0)\n",
    "svc_scores = cross_val_score(estimator = svc_clf, X = X_train, y = y_train, cv=10)\n",
    "svc_mean = svc_scores.mean()*100\n",
    "svc_std = svc_scores.std()*100\n",
    "\n",
    "# KNearestNeighbors\n",
    "knn_clf = KNeighborsClassifier()\n",
    "knn_scores = cross_val_score(estimator = knn_clf, X = X_train, y = y_train, cv=10)\n",
    "knn_mean = knn_scores.mean()*100\n",
    "knn_std = knn_scores.std()*100\n",
    "\n",
    "# Decision Tree\n",
    "tree_clf = DecisionTreeClassifier()\n",
    "tree_scores = cross_val_score(estimator = tree_clf, X= X_train, y = y_train, cv=10)\n",
    "tree_mean = tree_scores.mean()*100\n",
    "tree_std = tree_scores.std()*100\n",
    "\n",
    "\n",
    "# Random Forest Classifier\n",
    "rand_clf = RandomForestClassifier(n_estimators=18)\n",
    "rand_scores = cross_val_score(estimator = rand_clf, X = X_train, y = y_train, cv=10)\n",
    "rand_mean = rand_scores.mean()*100\n",
    "rand_std = rand_scores.std()*100\n",
    "\n",
    "# Naives Bayes\n",
    "nav_clf = GaussianNB()\n",
    "nav_scores = cross_val_score(estimator = nav_clf, X = X_train, y = y_train, cv=10)\n",
    "nav_mean = nav_scores.mean()*100\n",
    "nav_std = nav_scores.std()*100\n",
    "\n",
    "#XGB\n",
    "xgb_clf = XGBClassifier()\n",
    "xgb_scores = cross_val_score(estimator = xgb_clf, X = X_train, y = y_train, cv=10)\n",
    "xgb_mean = xgb_scores.mean()*100\n",
    "xgb_std = xgb_scores.std()*100\n",
    "\n",
    "# Create a Dataframe with the results.\n",
    "d = {'Classifiers': ['SVC', 'KNN', 'Dec Tree', 'Rand FC',  'Naives Bayes','XGB'], \n",
    "    'Crossval Mean Scores': [svc_mean, knn_mean, tree_mean, rand_mean, nav_mean,xgb_mean],\n",
    "    'Standard Deviation': [svc_std, knn_std, tree_std, rand_std, nav_std, xgb_std]}\n",
    "result_df = pd.DataFrame(data=d)"
   ]
  },
  {
   "cell_type": "code",
   "execution_count": 75,
   "metadata": {},
   "outputs": [
    {
     "data": {
      "text/html": [
       "<div>\n",
       "<style scoped>\n",
       "    .dataframe tbody tr th:only-of-type {\n",
       "        vertical-align: middle;\n",
       "    }\n",
       "\n",
       "    .dataframe tbody tr th {\n",
       "        vertical-align: top;\n",
       "    }\n",
       "\n",
       "    .dataframe thead th {\n",
       "        text-align: right;\n",
       "    }\n",
       "</style>\n",
       "<table border=\"1\" class=\"dataframe\">\n",
       "  <thead>\n",
       "    <tr style=\"text-align: right;\">\n",
       "      <th></th>\n",
       "      <th>Classifiers</th>\n",
       "      <th>Crossval Mean Scores</th>\n",
       "      <th>Standard Deviation</th>\n",
       "    </tr>\n",
       "  </thead>\n",
       "  <tbody>\n",
       "    <tr>\n",
       "      <th>5</th>\n",
       "      <td>XGB</td>\n",
       "      <td>85.879847</td>\n",
       "      <td>0.739490</td>\n",
       "    </tr>\n",
       "    <tr>\n",
       "      <th>0</th>\n",
       "      <td>SVC</td>\n",
       "      <td>84.422346</td>\n",
       "      <td>0.958586</td>\n",
       "    </tr>\n",
       "    <tr>\n",
       "      <th>3</th>\n",
       "      <td>Rand FC</td>\n",
       "      <td>83.836908</td>\n",
       "      <td>1.008969</td>\n",
       "    </tr>\n",
       "    <tr>\n",
       "      <th>1</th>\n",
       "      <td>KNN</td>\n",
       "      <td>80.516149</td>\n",
       "      <td>1.559841</td>\n",
       "    </tr>\n",
       "    <tr>\n",
       "      <th>2</th>\n",
       "      <td>Dec Tree</td>\n",
       "      <td>78.329641</td>\n",
       "      <td>1.218758</td>\n",
       "    </tr>\n",
       "    <tr>\n",
       "      <th>4</th>\n",
       "      <td>Naives Bayes</td>\n",
       "      <td>71.998800</td>\n",
       "      <td>1.809764</td>\n",
       "    </tr>\n",
       "  </tbody>\n",
       "</table>\n",
       "</div>"
      ],
      "text/plain": [
       "    Classifiers  Crossval Mean Scores  Standard Deviation\n",
       "5           XGB             85.879847            0.739490\n",
       "0           SVC             84.422346            0.958586\n",
       "3       Rand FC             83.836908            1.008969\n",
       "1           KNN             80.516149            1.559841\n",
       "2      Dec Tree             78.329641            1.218758\n",
       "4  Naives Bayes             71.998800            1.809764"
      ]
     },
     "execution_count": 75,
     "metadata": {},
     "output_type": "execute_result"
    }
   ],
   "source": [
    "result_df = result_df.sort_values(by=['Crossval Mean Scores'], ascending=False)\n",
    "result_df"
   ]
  },
  {
   "cell_type": "markdown",
   "metadata": {},
   "source": [
    "XGBoost having the highest average score and the Kernel SVM classifer model in second. "
   ]
  },
  {
   "cell_type": "code",
   "execution_count": 76,
   "metadata": {},
   "outputs": [
    {
     "name": "stderr",
     "output_type": "stream",
     "text": [
      "C:\\Users\\isung\\.conda\\envs\\mydevenv\\lib\\site-packages\\sklearn\\svm\\base.py:193: FutureWarning: The default value of gamma will change from 'auto' to 'scale' in version 0.22 to account better for unscaled features. Set gamma explicitly to 'auto' or 'scale' to avoid this warning.\n",
      "  \"avoid this warning.\", FutureWarning)\n",
      "C:\\Users\\isung\\.conda\\envs\\mydevenv\\lib\\site-packages\\sklearn\\svm\\base.py:193: FutureWarning: The default value of gamma will change from 'auto' to 'scale' in version 0.22 to account better for unscaled features. Set gamma explicitly to 'auto' or 'scale' to avoid this warning.\n",
      "  \"avoid this warning.\", FutureWarning)\n",
      "C:\\Users\\isung\\.conda\\envs\\mydevenv\\lib\\site-packages\\sklearn\\svm\\base.py:193: FutureWarning: The default value of gamma will change from 'auto' to 'scale' in version 0.22 to account better for unscaled features. Set gamma explicitly to 'auto' or 'scale' to avoid this warning.\n",
      "  \"avoid this warning.\", FutureWarning)\n"
     ]
    },
    {
     "name": "stdout",
     "output_type": "stream",
     "text": [
      "Precison Score: 0.8080882352941177\n",
      "Recall Score: 0.8532608695652174\n",
      "F1 Score: 0.8300604229607251\n",
      "Precison Score for XGB: 0.827252419955324\n",
      "Recall Score for XGB: 0.8625776397515528\n",
      "F1 Score for XGB: 0.8445458000760168\n"
     ]
    }
   ],
   "source": [
    "#Precision, Recall and F1 score for the Kernel SVM and XGBoost\n",
    "from sklearn.metrics import f1_score, precision_score, recall_score, classification_report, confusion_matrix\n",
    "\n",
    "prec_score_svm = precision_score(y_test, KernelSVMMode(X_train, y_train, X_test))\n",
    "rec_score_svm = recall_score(y_test, KernelSVMMode(X_train, y_train, X_test))\n",
    "f1score_svm = f1_score(y_test, KernelSVMMode(X_train, y_train, X_test))\n",
    "\n",
    "prec_score_xgb = precision_score(y_test, XGBMode(X_train, y_train, X_test))\n",
    "rec_score_xgb = recall_score(y_test, XGBMode(X_train, y_train, X_test))\n",
    "f1score_xgb = f1_score(y_test, XGBMode(X_train, y_train, X_test))\n",
    "\n",
    "print(\"Precison Score: {}\".format(prec_score_svm))\n",
    "print(\"Recall Score: {}\".format(rec_score_svm))\n",
    "print(\"F1 Score: {}\".format(f1score_svm))\n",
    "\n",
    "print(\"Precison Score for XGB: {}\".format(prec_score_xgb))\n",
    "print(\"Recall Score for XGB: {}\".format(rec_score_xgb))\n",
    "print(\"F1 Score for XGB: {}\".format(f1score_xgb))\n"
   ]
  },
  {
   "cell_type": "markdown",
   "metadata": {},
   "source": [
    "### Grid Search for the Support Vector Machine Model"
   ]
  },
  {
   "cell_type": "code",
   "execution_count": 89,
   "metadata": {},
   "outputs": [
    {
     "name": "stdout",
     "output_type": "stream",
     "text": [
      "Best Accuracy: 85.31 %\n",
      "Best Parameters: {'C': 1, 'gamma': 0.1, 'kernel': 'rbf'}\n"
     ]
    }
   ],
   "source": [
    "from sklearn.model_selection import GridSearchCV\n",
    "parameters = [{'C': [0.25, 0.5, 0.75, 1], 'kernel': ['linear']},\n",
    "              {'C': [0.25, 0.5, 0.75, 1], 'kernel': ['rbf'], 'gamma': [0.1, 0.2, 0.3, 0.4, 0.5, 0.6, 0.7, 0.8, 0.9]}]\n",
    "grid_search = GridSearchCV(estimator = svc_clf,\n",
    "                           param_grid = parameters,\n",
    "                           scoring = 'accuracy',\n",
    "                           cv = 10,\n",
    "                           n_jobs = -1)\n",
    "grid_search.fit(X_train, y_train)\n",
    "best_accuracy = grid_search.best_score_\n",
    "best_parameters = grid_search.best_params_\n",
    "print(\"Best Accuracy: {:.2f} %\".format(best_accuracy*100))\n",
    "print(\"Best Parameters:\", best_parameters)"
   ]
  },
  {
   "cell_type": "markdown",
   "metadata": {},
   "source": [
    "### Feature Importance and recommendations"
   ]
  },
  {
   "cell_type": "markdown",
   "metadata": {},
   "source": [
    "So in conclusion what factors would influence the result of a Term Deposit Subscription?"
   ]
  },
  {
   "cell_type": "markdown",
   "metadata": {},
   "source": [
    "Using Random Forest and XGBoost feature importance to give an idea as to which features would influence the result of opening a term deposit."
   ]
  },
  {
   "cell_type": "code",
   "execution_count": 424,
   "metadata": {},
   "outputs": [],
   "source": [
    "dataset_copy = dataset\n",
    "\n",
    "dataset_copy['job'] = dataset_copy['job'].astype('category').cat.codes\n",
    "dataset_copy['housing'] = dataset_copy['housing'].astype('category').cat.codes\n",
    "dataset_copy['marital'] = dataset_copy['marital'].astype('category').cat.codes\n",
    "dataset_copy['contact'] = dataset_copy['contact'].astype('category').cat.codes\n",
    "dataset_copy['month'] = dataset_copy['month'].astype('category').cat.codes\n",
    "dataset_copy['poutcome'] = dataset_copy['poutcome'].astype('category').cat.codes\n",
    "dataset_copy['loan'] = dataset_copy['loan'].astype('category').cat.codes\n",
    "dataset_copy['default'] = dataset_copy['default'].astype('category').cat.codes\n",
    "dataset_copy['education'] = dataset_copy['education'].astype('category').cat.codes"
   ]
  },
  {
   "cell_type": "code",
   "execution_count": 425,
   "metadata": {},
   "outputs": [],
   "source": [
    "X_data = dataset_copy.iloc[:,:-1]\n",
    "y_data = dataset_copy.iloc[:, -1]"
   ]
  },
  {
   "cell_type": "code",
   "execution_count": 426,
   "metadata": {},
   "outputs": [],
   "source": [
    "from sklearn.model_selection import train_test_split\n",
    "X_training, X_testing, y_training, y_testing = train_test_split(X_data,y_data,test_size=0.2, random_state=42, stratify=y_data)"
   ]
  },
  {
   "cell_type": "code",
   "execution_count": 429,
   "metadata": {},
   "outputs": [
    {
     "name": "stdout",
     "output_type": "stream",
     "text": [
      "Feature ranking:\n",
      "Feature: 0, Score: 0.08431\n",
      "Feature: 1, Score: 0.03885\n",
      "Feature: 2, Score: 0.01841\n",
      "Feature: 3, Score: 0.02353\n",
      "Feature: 4, Score: 0.00136\n",
      "Feature: 5, Score: 0.08940\n",
      "Feature: 6, Score: 0.03058\n",
      "Feature: 7, Score: 0.01107\n",
      "Feature: 8, Score: 0.04446\n",
      "Feature: 9, Score: 0.07318\n",
      "Feature: 10, Score: 0.07995\n",
      "Feature: 11, Score: 0.36892\n",
      "Feature: 12, Score: 0.03418\n",
      "Feature: 13, Score: 0.04209\n",
      "Feature: 14, Score: 0.02491\n",
      "Feature: 15, Score: 0.03480\n"
     ]
    },
    {
     "data": {
      "image/png": "[encoded data removed]",
      "text/plain": [
       "<Figure size 864x432 with 1 Axes>"
      ]
     },
     "metadata": {},
     "output_type": "display_data"
    }
   ],
   "source": [
    "modelRF = RandomForestClassifier()\n",
    "# fit the model\n",
    "modelRF.fit(X_training, y_training)\n",
    "# get importance\n",
    "importances = modelRF.feature_importances_\n",
    "# summarize feature importance\n",
    "feature_names = X_data.columns\n",
    "indices = np.argsort(importances)[::-1]\n",
    "\n",
    "# Print the feature ranking\n",
    "print(\"Feature ranking:\")\n",
    "\n",
    "for i,v in enumerate(importances):\n",
    "    print('Feature: %0d, Score: %.5f' % (i,v))\n",
    "\n",
    "# Plot the feature importances of the forest\n",
    "def feature_importance_graph(indices, importances, feature_names):\n",
    "    plt.figure(figsize=(12,6))\n",
    "    #plt.title(\"Determining Feature importances \\n with Random Forest Classifier\", fontsize=18)\n",
    "    plt.barh(range(len(indices)), importances[indices],  align=\"center\")\n",
    "    plt.yticks(range(len(indices)), feature_names[indices], rotation='horizontal',fontsize=14)\n",
    "    plt.ylim([-1, len(indices)])\n",
    "    \n",
    "    \n",
    "    \n",
    "feature_importance_graph(indices, importances, feature_names)\n",
    "plt.show()"
   ]
  },
  {
   "cell_type": "code",
   "execution_count": 430,
   "metadata": {},
   "outputs": [
    {
     "name": "stdout",
     "output_type": "stream",
     "text": [
      "Feature: 0, Score: 0.03695\n",
      "Feature: 1, Score: 0.01591\n",
      "Feature: 2, Score: 0.01200\n",
      "Feature: 3, Score: 0.03510\n",
      "Feature: 4, Score: 0.00000\n",
      "Feature: 5, Score: 0.03201\n",
      "Feature: 6, Score: 0.13098\n",
      "Feature: 7, Score: 0.04446\n",
      "Feature: 8, Score: 0.12913\n",
      "Feature: 9, Score: 0.02029\n",
      "Feature: 10, Score: 0.05506\n",
      "Feature: 11, Score: 0.19265\n",
      "Feature: 12, Score: 0.03820\n",
      "Feature: 13, Score: 0.09505\n",
      "Feature: 14, Score: 0.02097\n",
      "Feature: 15, Score: 0.14126\n"
     ]
    },
    {
     "data": {
      "image/png": "[encoded data removed]",
      "text/plain": [
       "<Figure size 864x432 with 1 Axes>"
      ]
     },
     "metadata": {},
     "output_type": "display_data"
    }
   ],
   "source": [
    "modelXGB = XGBClassifier()\n",
    "# fit the model\n",
    "modelXGB.fit(X_training, y_training)\n",
    "# get importance\n",
    "importancesXGB = modelXGB.feature_importances_\n",
    "\n",
    "# summarize feature importance\n",
    "feature_namesXGB = X_data.columns\n",
    "indicesXGB = np.argsort(importancesXGB)[::-1]\n",
    "\n",
    "for i,v in enumerate(importancesXGB):\n",
    "\tprint('Feature: %0d, Score: %.5f' % (i,v))\n",
    "# plot feature importance\n",
    "feature_importance_graph(indicesXGB, importancesXGB, feature_namesXGB)\n",
    "plt.show()"
   ]
  },
  {
   "cell_type": "code",
   "execution_count": 432,
   "metadata": {
    "scrolled": true
   },
   "outputs": [
    {
     "data": {
      "image/png": "[encoded data removed]",
      "text/plain": [
       "<Figure size 432x288 with 1 Axes>"
      ]
     },
     "metadata": {},
     "output_type": "display_data"
    }
   ],
   "source": [
    "dataset_copy1 = dataset\n",
    "\n",
    "dataset_copy1['balance_buckets'] = pd.qcut(dataset_copy1['balance'], 50, labels=False, duplicates = 'drop')\n",
    "dataset_copy1['deposit'] = dataset_copy1['deposit'].map({'yes': 1, 'no': 0})\n",
    "#group by 'balance_buckets' and find average campaign outcome per balance bucket\n",
    "mean_deposit = dataset_copy1.groupby(['balance_buckets'])['deposit'].mean()\n",
    "\n",
    "\n",
    "\n",
    "#plot\n",
    "plt.plot(mean_deposit.index, mean_deposit.values)\n",
    "plt.title('Mean % subscription depending on account balance')\n",
    "plt.xlabel('balance bucket')\n",
    "plt.ylabel('% subscription')\n",
    "plt.show()"
   ]
  },
  {
   "cell_type": "code",
   "execution_count": 439,
   "metadata": {
    "scrolled": true
   },
   "outputs": [
    {
     "data": {
      "image/png": "[encoded data removed]",
      "text/plain": [
       "<Figure size 432x288 with 1 Axes>"
      ]
     },
     "metadata": {},
     "output_type": "display_data"
    }
   ],
   "source": [
    "\n",
    "\n",
    "dataset_copy1['campaign_buckets'] = pd.qcut(dataset_copy1['campaign'], 20, labels=False, duplicates = 'drop')\n",
    "\n",
    "#group by 'balance_buckets' and find average campaign outcome per balance bucket\n",
    "campaign_mean_deposit = dataset_copy1.groupby(['campaign_buckets'])['deposit'].mean()\n",
    "\n",
    "\n",
    "\n",
    "#plot\n",
    "plt.plot(campaign_mean_deposit.index, campaign_mean_deposit.values)\n",
    "plt.title('Mean % subscription depending on account balance')\n",
    "plt.xlabel('Campaign bucket')\n",
    "plt.ylabel('% subscription')\n",
    "plt.show()"
   ]
  },
  {
   "cell_type": "code",
   "execution_count": 446,
   "metadata": {},
   "outputs": [
    {
     "data": {
      "text/plain": [
       "2"
      ]
     },
     "execution_count": 446,
     "metadata": {},
     "output_type": "execute_result"
    }
   ],
   "source": [
    "dataset_copy1[dataset_copy1['campaign_buckets'] == 0]['campaign'].max()"
   ]
  },
  {
   "cell_type": "markdown",
   "metadata": {},
   "source": [
    "Conculsion on the Next Marketing Campaign\n",
    "\n",
    "Based on both the important features from both classifiers and analysis earlier, we can proffer the following suggestions.\n",
    "\n",
    "- In terms of customer's balance, the customers with higher bank balance have better chances of opening a term deposit. The Bank should target these customers with balance over $2000 as they have higher probability to subscribe.\n",
    "- The Bank should focus marketing on age groups between 18-25 and over 40 years, these age groups are more likely to subscribe to a term deposit.\n",
    "- Contact duration is influential in predicting if the customer will subscribe or not. It is important to have the customer service representative be more courteous maybe through training procedures necause as the longer the contact the higher the chances of subscribing to a term deposit.\n",
    "- Number of contacts does matter based on the data, as we can see from the chart, the number of contacts should not exceed 2 or 3 calls as the chances of getting a customer to open a term deposit account diminishes as the number of contacts increases.\n",
    "- Based on job categories, student, Management and Retired customers did have high chances for customer subscription and the next marketing campaign could involve school's outreach and reaching to customers within these groups.\n",
    "- Customers with personal loans or housing loans are less likely to open a term deposit account, marketing should target those without these loans and within the customers that have loans, also look at their balances, job and age."
   ]
  },
  {
   "cell_type": "markdown",
   "metadata": {},
   "source": [
    "### Use Neural Network to perform Classification"
   ]
  },
  {
   "cell_type": "code",
   "execution_count": 13,
   "metadata": {},
   "outputs": [],
   "source": [
    "import tensorflow as tf"
   ]
  },
  {
   "cell_type": "code",
   "execution_count": 14,
   "metadata": {},
   "outputs": [],
   "source": [
    "ann = tf.keras.models.Sequential()"
   ]
  },
  {
   "cell_type": "markdown",
   "metadata": {},
   "source": [
    "#### Adding input layer and two hidden layers"
   ]
  },
  {
   "cell_type": "code",
   "execution_count": 15,
   "metadata": {},
   "outputs": [],
   "source": [
    "ann.add(tf.keras.layers.Dense(units=10, activation='relu'))\n",
    "ann.add(tf.keras.layers.Dense(units=10, activation='relu'))"
   ]
  },
  {
   "cell_type": "markdown",
   "metadata": {},
   "source": [
    "#### Adding the output layer"
   ]
  },
  {
   "cell_type": "code",
   "execution_count": 16,
   "metadata": {},
   "outputs": [],
   "source": [
    "ann.add(tf.keras.layers.Dense(units=1, activation='sigmoid'))"
   ]
  },
  {
   "cell_type": "markdown",
   "metadata": {},
   "source": [
    "#### Compiling the ANN and Training the ANN"
   ]
  },
  {
   "cell_type": "code",
   "execution_count": 17,
   "metadata": {},
   "outputs": [],
   "source": [
    "ann.compile(optimizer = 'adam', loss = 'binary_crossentropy', metrics = ['accuracy'])"
   ]
  },
  {
   "cell_type": "code",
   "execution_count": 18,
   "metadata": {},
   "outputs": [
    {
     "name": "stdout",
     "output_type": "stream",
     "text": [
      "Train on 8371 samples\n",
      "Epoch 1/100\n",
      "8371/8371 [==============================] - 4s 503us/sample - loss: 0.5701 - accuracy: 0.7246\n",
      "Epoch 2/100\n",
      "8371/8371 [==============================] - 2s 207us/sample - loss: 0.4170 - accuracy: 0.8214\n",
      "Epoch 3/100\n",
      "8371/8371 [==============================] - 2s 210us/sample - loss: 0.3981 - accuracy: 0.8296\n",
      "Epoch 4/100\n",
      "8371/8371 [==============================] - 2s 210us/sample - loss: 0.3888 - accuracy: 0.8332\n",
      "Epoch 5/100\n",
      "8371/8371 [==============================] - 2s 211us/sample - loss: 0.3814 - accuracy: 0.8366\n",
      "Epoch 6/100\n",
      "8371/8371 [==============================] - 2s 211us/sample - loss: 0.3759 - accuracy: 0.8368\n",
      "Epoch 7/100\n",
      "8371/8371 [==============================] - 2s 211us/sample - loss: 0.3710 - accuracy: 0.8380\n",
      "Epoch 8/100\n",
      "8371/8371 [==============================] - 2s 210us/sample - loss: 0.3679 - accuracy: 0.8399\n",
      "Epoch 9/100\n",
      "8371/8371 [==============================] - 2s 210us/sample - loss: 0.3647 - accuracy: 0.8392\n",
      "Epoch 10/100\n",
      "8371/8371 [==============================] - 2s 208us/sample - loss: 0.3614 - accuracy: 0.8422\n",
      "Epoch 11/100\n",
      "8371/8371 [==============================] - 2s 208us/sample - loss: 0.3578 - accuracy: 0.8455\n",
      "Epoch 12/100\n",
      "8371/8371 [==============================] - 2s 210us/sample - loss: 0.3553 - accuracy: 0.8457\n",
      "Epoch 13/100\n",
      "8371/8371 [==============================] - 2s 212us/sample - loss: 0.3523 - accuracy: 0.8459\n",
      "Epoch 14/100\n",
      "8371/8371 [==============================] - 2s 207us/sample - loss: 0.3503 - accuracy: 0.8476\n",
      "Epoch 15/100\n",
      "8371/8371 [==============================] - 2s 210us/sample - loss: 0.3475 - accuracy: 0.8476\n",
      "Epoch 16/100\n",
      "8371/8371 [==============================] - 2s 206us/sample - loss: 0.3456 - accuracy: 0.8497\n",
      "Epoch 17/100\n",
      "8371/8371 [==============================] - 2s 204us/sample - loss: 0.3433 - accuracy: 0.8504\n",
      "Epoch 18/100\n",
      "8371/8371 [==============================] - 2s 209us/sample - loss: 0.3414 - accuracy: 0.8521\n",
      "Epoch 19/100\n",
      "8371/8371 [==============================] - 2s 209us/sample - loss: 0.3392 - accuracy: 0.8515\n",
      "Epoch 20/100\n",
      "8371/8371 [==============================] - 2s 211us/sample - loss: 0.3376 - accuracy: 0.8509\n",
      "Epoch 21/100\n",
      "8371/8371 [==============================] - 2s 203us/sample - loss: 0.3361 - accuracy: 0.8539\n",
      "Epoch 22/100\n",
      "8371/8371 [==============================] - 2s 210us/sample - loss: 0.3343 - accuracy: 0.8538\n",
      "Epoch 23/100\n",
      "8371/8371 [==============================] - 2s 206us/sample - loss: 0.3334 - accuracy: 0.8534\n",
      "Epoch 24/100\n",
      "8371/8371 [==============================] - 2s 209us/sample - loss: 0.3311 - accuracy: 0.8546\n",
      "Epoch 25/100\n",
      "8371/8371 [==============================] - 2s 208us/sample - loss: 0.3304 - accuracy: 0.8551\n",
      "Epoch 26/100\n",
      "8371/8371 [==============================] - 2s 206us/sample - loss: 0.3293 - accuracy: 0.8551\n",
      "Epoch 27/100\n",
      "8371/8371 [==============================] - 2s 209us/sample - loss: 0.3279 - accuracy: 0.8552\n",
      "Epoch 28/100\n",
      "8371/8371 [==============================] - 2s 204us/sample - loss: 0.3268 - accuracy: 0.8584\n",
      "Epoch 29/100\n",
      "8371/8371 [==============================] - 2s 201us/sample - loss: 0.3267 - accuracy: 0.8559\n",
      "Epoch 30/100\n",
      "8371/8371 [==============================] - 2s 191us/sample - loss: 0.3252 - accuracy: 0.8574\n",
      "Epoch 31/100\n",
      "8371/8371 [==============================] - 2s 182us/sample - loss: 0.3240 - accuracy: 0.8574\n",
      "Epoch 32/100\n",
      "8371/8371 [==============================] - 1s 174us/sample - loss: 0.3239 - accuracy: 0.8588\n",
      "Epoch 33/100\n",
      "8371/8371 [==============================] - 2s 211us/sample - loss: 0.3226 - accuracy: 0.8609\n",
      "Epoch 34/100\n",
      "8371/8371 [==============================] - 2s 205us/sample - loss: 0.3225 - accuracy: 0.8599\n",
      "Epoch 35/100\n",
      "8371/8371 [==============================] - 2s 210us/sample - loss: 0.3213 - accuracy: 0.8613\n",
      "Epoch 36/100\n",
      "8371/8371 [==============================] - 2s 197us/sample - loss: 0.3208 - accuracy: 0.8607\n",
      "Epoch 37/100\n",
      "8371/8371 [==============================] - 2s 190us/sample - loss: 0.3206 - accuracy: 0.8599\n",
      "Epoch 38/100\n",
      "8371/8371 [==============================] - 2s 193us/sample - loss: 0.3199 - accuracy: 0.8624\n",
      "Epoch 39/100\n",
      "8371/8371 [==============================] - 2s 183us/sample - loss: 0.3182 - accuracy: 0.8601\n",
      "Epoch 40/100\n",
      "8371/8371 [==============================] - 2s 191us/sample - loss: 0.3183 - accuracy: 0.8619\n",
      "Epoch 41/100\n",
      "8371/8371 [==============================] - 2s 186us/sample - loss: 0.3168 - accuracy: 0.8648\n",
      "Epoch 42/100\n",
      "8371/8371 [==============================] - 2s 180us/sample - loss: 0.3179 - accuracy: 0.8629\n",
      "Epoch 43/100\n",
      "8371/8371 [==============================] - 2s 195us/sample - loss: 0.3162 - accuracy: 0.8637\n",
      "Epoch 44/100\n",
      "8371/8371 [==============================] - 1s 178us/sample - loss: 0.3151 - accuracy: 0.8657\n",
      "Epoch 45/100\n",
      "8371/8371 [==============================] - 2s 195us/sample - loss: 0.3148 - accuracy: 0.8650\n",
      "Epoch 46/100\n",
      "8371/8371 [==============================] - 2s 207us/sample - loss: 0.3144 - accuracy: 0.8663\n",
      "Epoch 47/100\n",
      "8371/8371 [==============================] - 2s 206us/sample - loss: 0.3135 - accuracy: 0.8656\n",
      "Epoch 48/100\n",
      "8371/8371 [==============================] - 2s 209us/sample - loss: 0.3133 - accuracy: 0.8656\n",
      "Epoch 49/100\n",
      "8371/8371 [==============================] - 2s 207us/sample - loss: 0.3130 - accuracy: 0.8679\n",
      "Epoch 50/100\n",
      "8371/8371 [==============================] - 2s 209us/sample - loss: 0.3128 - accuracy: 0.8661\n",
      "Epoch 51/100\n",
      "8371/8371 [==============================] - 2s 204us/sample - loss: 0.3117 - accuracy: 0.8669\n",
      "Epoch 52/100\n",
      "8371/8371 [==============================] - 2s 207us/sample - loss: 0.3121 - accuracy: 0.8662\n",
      "Epoch 53/100\n",
      "8371/8371 [==============================] - 2s 206us/sample - loss: 0.3108 - accuracy: 0.8668\n",
      "Epoch 54/100\n",
      "8371/8371 [==============================] - 2s 210us/sample - loss: 0.3105 - accuracy: 0.8678\n",
      "Epoch 55/100\n",
      "8371/8371 [==============================] - 2s 207us/sample - loss: 0.3105 - accuracy: 0.8674\n",
      "Epoch 56/100\n",
      "8371/8371 [==============================] - 2s 209us/sample - loss: 0.3088 - accuracy: 0.8669\n",
      "Epoch 57/100\n",
      "8371/8371 [==============================] - 2s 205us/sample - loss: 0.3091 - accuracy: 0.8681\n",
      "Epoch 58/100\n",
      "8371/8371 [==============================] - 2s 211us/sample - loss: 0.3089 - accuracy: 0.8655\n",
      "Epoch 59/100\n",
      "8371/8371 [==============================] - 2s 204us/sample - loss: 0.3085 - accuracy: 0.8673\n",
      "Epoch 60/100\n",
      "8371/8371 [==============================] - 2s 208us/sample - loss: 0.3070 - accuracy: 0.8676\n",
      "Epoch 61/100\n",
      "8371/8371 [==============================] - 2s 210us/sample - loss: 0.3072 - accuracy: 0.8680\n",
      "Epoch 62/100\n",
      "8371/8371 [==============================] - 2s 209us/sample - loss: 0.3067 - accuracy: 0.8698\n",
      "Epoch 63/100\n",
      "8371/8371 [==============================] - 2s 204us/sample - loss: 0.3067 - accuracy: 0.8687\n",
      "Epoch 64/100\n",
      "8371/8371 [==============================] - 2s 207us/sample - loss: 0.3060 - accuracy: 0.8680\n",
      "Epoch 65/100\n",
      "8371/8371 [==============================] - 2s 203us/sample - loss: 0.3061 - accuracy: 0.8682\n",
      "Epoch 66/100\n",
      "8371/8371 [==============================] - 2s 209us/sample - loss: 0.3050 - accuracy: 0.8697\n",
      "Epoch 67/100\n",
      "8371/8371 [==============================] - 2s 204us/sample - loss: 0.3047 - accuracy: 0.8698\n",
      "Epoch 68/100\n",
      "8371/8371 [==============================] - 2s 203us/sample - loss: 0.3041 - accuracy: 0.8718\n",
      "Epoch 69/100\n",
      "8371/8371 [==============================] - 2s 196us/sample - loss: 0.3046 - accuracy: 0.8700\n",
      "Epoch 70/100\n",
      "8371/8371 [==============================] - 2s 201us/sample - loss: 0.3034 - accuracy: 0.8711\n",
      "Epoch 71/100\n",
      "8371/8371 [==============================] - 2s 204us/sample - loss: 0.3037 - accuracy: 0.8705\n",
      "Epoch 72/100\n",
      "8371/8371 [==============================] - 2s 205us/sample - loss: 0.3037 - accuracy: 0.8712\n",
      "Epoch 73/100\n",
      "8371/8371 [==============================] - 2s 202us/sample - loss: 0.3032 - accuracy: 0.8712\n",
      "Epoch 74/100\n",
      "8371/8371 [==============================] - 2s 202us/sample - loss: 0.3027 - accuracy: 0.8711\n",
      "Epoch 75/100\n",
      "8371/8371 [==============================] - 2s 204us/sample - loss: 0.3032 - accuracy: 0.8728\n",
      "Epoch 76/100\n",
      "8371/8371 [==============================] - 2s 212us/sample - loss: 0.3028 - accuracy: 0.8716\n",
      "Epoch 77/100\n",
      "8371/8371 [==============================] - 2s 210us/sample - loss: 0.3021 - accuracy: 0.8727\n",
      "Epoch 78/100\n",
      "8371/8371 [==============================] - 2s 211us/sample - loss: 0.3014 - accuracy: 0.8727\n",
      "Epoch 79/100\n",
      "8371/8371 [==============================] - 2s 209us/sample - loss: 0.3018 - accuracy: 0.8716\n",
      "Epoch 80/100\n",
      "8371/8371 [==============================] - 2s 210us/sample - loss: 0.3016 - accuracy: 0.8724\n",
      "Epoch 81/100\n",
      "8371/8371 [==============================] - 2s 212us/sample - loss: 0.3007 - accuracy: 0.8733\n",
      "Epoch 82/100\n",
      "8371/8371 [==============================] - 2s 212us/sample - loss: 0.2997 - accuracy: 0.8736\n",
      "Epoch 83/100\n",
      "8371/8371 [==============================] - 2s 211us/sample - loss: 0.3000 - accuracy: 0.8725\n",
      "Epoch 84/100\n",
      "8371/8371 [==============================] - 2s 211us/sample - loss: 0.3003 - accuracy: 0.8712\n",
      "Epoch 85/100\n",
      "8371/8371 [==============================] - 2s 209us/sample - loss: 0.2999 - accuracy: 0.8761\n",
      "Epoch 86/100\n",
      "8371/8371 [==============================] - 2s 211us/sample - loss: 0.2998 - accuracy: 0.8737\n",
      "Epoch 87/100\n",
      "8371/8371 [==============================] - 2s 211us/sample - loss: 0.3006 - accuracy: 0.8718\n",
      "Epoch 88/100\n",
      "8371/8371 [==============================] - 2s 210us/sample - loss: 0.2998 - accuracy: 0.8736\n",
      "Epoch 89/100\n",
      "8371/8371 [==============================] - 2s 210us/sample - loss: 0.3002 - accuracy: 0.8713\n",
      "Epoch 90/100\n",
      "8371/8371 [==============================] - 2s 211us/sample - loss: 0.2990 - accuracy: 0.8727\n",
      "Epoch 91/100\n",
      "8371/8371 [==============================] - 2s 209us/sample - loss: 0.2990 - accuracy: 0.8730\n",
      "Epoch 92/100\n",
      "8371/8371 [==============================] - 2s 211us/sample - loss: 0.2991 - accuracy: 0.8749\n",
      "Epoch 93/100\n",
      "8371/8371 [==============================] - 2s 208us/sample - loss: 0.2993 - accuracy: 0.8750\n",
      "Epoch 94/100\n",
      "8371/8371 [==============================] - 2s 212us/sample - loss: 0.2979 - accuracy: 0.8748\n",
      "Epoch 95/100\n",
      "8371/8371 [==============================] - 2s 208us/sample - loss: 0.2980 - accuracy: 0.8724\n",
      "Epoch 96/100\n",
      "8371/8371 [==============================] - 2s 211us/sample - loss: 0.2982 - accuracy: 0.8742\n",
      "Epoch 97/100\n",
      "8371/8371 [==============================] - 2s 209us/sample - loss: 0.2984 - accuracy: 0.8752\n",
      "Epoch 98/100\n",
      "8371/8371 [==============================] - 2s 211us/sample - loss: 0.2977 - accuracy: 0.8756\n",
      "Epoch 99/100\n",
      "8371/8371 [==============================] - 2s 212us/sample - loss: 0.2971 - accuracy: 0.8756\n",
      "Epoch 100/100\n",
      "8371/8371 [==============================] - 2s 211us/sample - loss: 0.2972 - accuracy: 0.8730\n"
     ]
    },
    {
     "data": {
      "text/plain": [
       "<tensorflow.python.keras.callbacks.History at 0x1f5500d60c8>"
      ]
     },
     "execution_count": 18,
     "metadata": {},
     "output_type": "execute_result"
    }
   ],
   "source": [
    "ann.fit(X_train, y_train, batch_size = 32, epochs = 100)"
   ]
  },
  {
   "cell_type": "code",
   "execution_count": 19,
   "metadata": {},
   "outputs": [
    {
     "name": "stdout",
     "output_type": "stream",
     "text": [
      "[[0 0]\n",
      " [1 1]\n",
      " [0 0]\n",
      " ...\n",
      " [0 0]\n",
      " [0 0]\n",
      " [0 0]]\n"
     ]
    }
   ],
   "source": [
    "y_pred = ann.predict(X_test)\n",
    "y_pred = (y_pred > 0.5)\n",
    "print(np.concatenate((y_pred.reshape(len(y_pred),1), y_test.reshape(len(y_test),1)),1))"
   ]
  },
  {
   "cell_type": "code",
   "execution_count": 20,
   "metadata": {},
   "outputs": [
    {
     "name": "stdout",
     "output_type": "stream",
     "text": [
      "[[1237  266]\n",
      " [ 166 1122]]\n"
     ]
    },
    {
     "data": {
      "text/plain": [
       "0.8452167681834468"
      ]
     },
     "execution_count": 20,
     "metadata": {},
     "output_type": "execute_result"
    }
   ],
   "source": [
    "from sklearn.metrics import confusion_matrix, accuracy_score\n",
    "cm = confusion_matrix(y_test, y_pred)\n",
    "print(cm)\n",
    "accuracy_score(y_test, y_pred)"
   ]
  },
  {
   "cell_type": "markdown",
   "metadata": {},
   "source": [
    "After changing the number of layers, and increasing the number of units. I am seeing better results, these are the hyperparameters that need to be tuned. It seems that the Neural Network Classification performed better than most of the machine learning algorithms, depending on the task at hand I would have required more layers but less layers was used in order to perform regularization."
   ]
  }
 ],
 "metadata": {
  "kernelspec": {
   "display_name": "Python 3",
   "language": "python",
   "name": "python3"
  },
  "language_info": {
   "codemirror_mode": {
    "name": "ipython",
    "version": 3
   },
   "file_extension": ".py",
   "mimetype": "text/x-python",
   "name": "python",
   "nbconvert_exporter": "python",
   "pygments_lexer": "ipython3",
   "version": "3.7.7"
  }
 },
 "nbformat": 4,
 "nbformat_minor": 4
}
